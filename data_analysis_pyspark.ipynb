
{
 "cells": [
  {
   "cell_type": "code",
   "execution_count": null,
   "id": "startup",
   "metadata": {},
   "outputs": [],
   "source": [
    "# Install PySpark (Uncomment if using Colab)\n",
    "# !pip install pyspark"
   ]
  },
  {
   "cell_type": "code",
   "execution_count": null,
   "id": "import-spark",
   "metadata": {},
   "outputs": [],
   "source": [
    "from pyspark.sql import SparkSession\n",
    "from pyspark.sql.functions import col, avg, max, min, to_date"
   ]
  },
  {
   "cell_type": "code",
   "execution_count": null,
   "id": "start-spark",
   "metadata": {},
   "outputs": [],
   "source": [
    "spark = SparkSession.builder \\n",
    "    .appName(\"Big Data Analysis - Task 1\") \\n",
    "    .getOrCreate()"
   ]
  },
  {
   "cell_type": "code",
   "execution_count": null,
   "id": "load-data",
   "metadata": {},
   "outputs": [],
   "source": [
    "df = spark.read.csv(\"../dataset/nyc_taxi_sample.csv\", header=True, inferSchema=True)\n",
    "df.show()"
   ]
  },
  {
   "cell_type": "code",
   "execution_count": null,
   "id": "analysis",
   "metadata": {},
   "outputs": [],
   "source": [
    "# Clean and basic stats\n",
    "df_cleaned = df.dropna()\n",
    "df_cleaned.describe().show()\n",
    "\n",
    "# Average trip distance\n",
    "df_cleaned.select(avg(\"trip_distance\")).show()\n",
    "\n",
    "# Max and min fare\n",
    "df_cleaned.select(max(\"fare_amount\"), min(\"fare_amount\")).show()\n",
    "\n",
    "# Group by vendor_id\n",
    "df_cleaned.groupBy(\"vendor_id\").count().show()"
   ]
  },
  {
   "cell_type": "code",
   "execution_count": null,
   "id": "end-session",
   "metadata": {},
   "outputs": [],
   "source": [
    "spark.stop()"
   ]
  }
 ],
 "metadata": {
  "kernelspec": {
   "display_name": "Python 3",
   "language": "python",
   "name": "python3"
  },
  "language_info": {
   "name": "python",
   "version": ""
  }
 },
 "nbformat": 4,
 "nbformat_minor": 5
}
